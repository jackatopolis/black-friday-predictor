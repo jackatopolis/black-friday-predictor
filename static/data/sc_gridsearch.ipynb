{
 "cells": [
  {
   "cell_type": "code",
   "execution_count": 1,
   "metadata": {},
   "outputs": [],
   "source": [
    "# Import Dependencies\n",
    "import pandas as pd\n",
    "\n",
    "from sklearn.model_selection import train_test_split\n",
    "from sklearn.preprocessing import StandardScaler, LabelEncoder, MinMaxScaler, PolynomialFeatures\n",
    "from sklearn.linear_model import LinearRegression, SGDRegressor, Ridge, Lasso, ElasticNet \n",
    "from sklearn.linear_model import LogisticRegression\n",
    "from sklearn.ensemble import RandomForestClassifier, GradientBoostingRegressor\n",
    "from sklearn.pipeline import make_pipeline\n",
    "from sklearn.metrics import mean_squared_error, r2_score, mean_absolute_error, accuracy_score, f1_score, roc_auc_score, precision_recall_fscore_support\n",
    "from sklearn.feature_selection import SelectFromModel\n",
    "from sklearn.model_selection import TimeSeriesSplit, GridSearchCV\n",
    "from sklearn.svm import SVR\n",
    "from sklearn.model_selection import cross_val_score, cross_validate, KFold\n",
    "from sklearn.feature_extraction.text import TfidfVectorizer\n",
    "\n",
    "from sklearn.ensemble import GradientBoostingClassifier  \n",
    "\n",
    "import matplotlib.pylab as plt\n",
    "from matplotlib.pylab import rcParams\n",
    "rcParams['figure.figsize'] = 12, 4\n",
    "\n",
    "import matplotlib.pyplot as plt\n",
    "import numpy as np\n",
    "from joblib import dump, load"
   ]
  },
  {
   "cell_type": "code",
   "execution_count": 2,
   "metadata": {},
   "outputs": [
    {
     "data": {
      "text/html": [
       "<div>\n",
       "<style scoped>\n",
       "    .dataframe tbody tr th:only-of-type {\n",
       "        vertical-align: middle;\n",
       "    }\n",
       "\n",
       "    .dataframe tbody tr th {\n",
       "        vertical-align: top;\n",
       "    }\n",
       "\n",
       "    .dataframe thead th {\n",
       "        text-align: right;\n",
       "    }\n",
       "</style>\n",
       "<table border=\"1\" class=\"dataframe\">\n",
       "  <thead>\n",
       "    <tr style=\"text-align: right;\">\n",
       "      <th></th>\n",
       "      <th>Store</th>\n",
       "      <th>Product</th>\n",
       "      <th>week_of_year</th>\n",
       "      <th>Base Price</th>\n",
       "      <th>Price</th>\n",
       "      <th>promotion</th>\n",
       "      <th>Is_Holiday</th>\n",
       "      <th>Weekly_Units_Sold</th>\n",
       "    </tr>\n",
       "  </thead>\n",
       "  <tbody>\n",
       "    <tr>\n",
       "      <th>0</th>\n",
       "      <td>_1</td>\n",
       "      <td>_1</td>\n",
       "      <td>_5</td>\n",
       "      <td>9.99</td>\n",
       "      <td>7.99</td>\n",
       "      <td>1</td>\n",
       "      <td>0</td>\n",
       "      <td>245</td>\n",
       "    </tr>\n",
       "    <tr>\n",
       "      <th>1</th>\n",
       "      <td>_1</td>\n",
       "      <td>_1</td>\n",
       "      <td>_6</td>\n",
       "      <td>9.99</td>\n",
       "      <td>7.99</td>\n",
       "      <td>1</td>\n",
       "      <td>1</td>\n",
       "      <td>453</td>\n",
       "    </tr>\n",
       "    <tr>\n",
       "      <th>2</th>\n",
       "      <td>_1</td>\n",
       "      <td>_1</td>\n",
       "      <td>_7</td>\n",
       "      <td>9.99</td>\n",
       "      <td>7.99</td>\n",
       "      <td>1</td>\n",
       "      <td>0</td>\n",
       "      <td>409</td>\n",
       "    </tr>\n",
       "    <tr>\n",
       "      <th>3</th>\n",
       "      <td>_1</td>\n",
       "      <td>_1</td>\n",
       "      <td>_8</td>\n",
       "      <td>9.99</td>\n",
       "      <td>7.99</td>\n",
       "      <td>1</td>\n",
       "      <td>0</td>\n",
       "      <td>191</td>\n",
       "    </tr>\n",
       "    <tr>\n",
       "      <th>4</th>\n",
       "      <td>_1</td>\n",
       "      <td>_1</td>\n",
       "      <td>_9</td>\n",
       "      <td>9.99</td>\n",
       "      <td>9.99</td>\n",
       "      <td>0</td>\n",
       "      <td>0</td>\n",
       "      <td>145</td>\n",
       "    </tr>\n",
       "  </tbody>\n",
       "</table>\n",
       "</div>"
      ],
      "text/plain": [
       "  Store Product week_of_year  Base Price  Price  promotion  Is_Holiday  \\\n",
       "0    _1      _1           _5        9.99   7.99          1           0   \n",
       "1    _1      _1           _6        9.99   7.99          1           1   \n",
       "2    _1      _1           _7        9.99   7.99          1           0   \n",
       "3    _1      _1           _8        9.99   7.99          1           0   \n",
       "4    _1      _1           _9        9.99   9.99          0           0   \n",
       "\n",
       "   Weekly_Units_Sold  \n",
       "0                245  \n",
       "1                453  \n",
       "2                409  \n",
       "3                191  \n",
       "4                145  "
      ]
     },
     "execution_count": 2,
     "metadata": {},
     "output_type": "execute_result"
    }
   ],
   "source": [
    "# Call in the data\n",
    "df = pd.read_csv('Resources/preprocessed.csv')\n",
    "del df['Unnamed: 0']\n",
    "df.head()"
   ]
  },
  {
   "cell_type": "code",
   "execution_count": 3,
   "metadata": {},
   "outputs": [],
   "source": [
    "# Assign product variables\n",
    "pro1=df[df['Product']=='_1']\n",
    "pro2=df[df['Product']=='_2']\n",
    "pro3=df[df['Product']=='_3']    "
   ]
  },
  {
   "cell_type": "code",
   "execution_count": 4,
   "metadata": {},
   "outputs": [],
   "source": [
    "# Create features\n",
    "X=df.drop(columns=['Weekly_Units_Sold'], axis = 1)\n",
    "\n",
    "X=pd.get_dummies(X)\n",
    "\n",
    "# Create target. \n",
    "y = df['Weekly_Units_Sold']"
   ]
  },
  {
   "cell_type": "markdown",
   "metadata": {},
   "source": [
    "## Gradient Boosting Regression"
   ]
  },
  {
   "cell_type": "code",
   "execution_count": 5,
   "metadata": {},
   "outputs": [
    {
     "name": "stdout",
     "output_type": "stream",
     "text": [
      "0.88 accuracy with a standard deviation of 0.07\n",
      "0.9036436493215062\n",
      "0.8138822681407187\n",
      "43.35080188185705\n",
      "0.8138822681407187\n"
     ]
    }
   ],
   "source": [
    "model=GradientBoostingRegressor()\n",
    "# # Split data\n",
    "X_train, X_test, y_train, y_test = train_test_split(X, y, random_state=10)\n",
    "\n",
    "# Scale the data\n",
    "scaler = StandardScaler().fit(X_train)\n",
    "X_train_scaled = scaler.transform(X_train)\n",
    "X_test_scaled = scaler.transform(X_test)\n",
    "\n",
    "# Calculating Cross Validation Score across multiple testing sets\n",
    "scores = cross_val_score(model, X_train_scaled, y_train, cv=20)\n",
    "scores\n",
    "print(\"%0.2f accuracy with a standard deviation of %0.2f\" % (scores.mean(), scores.std()))\n",
    "\n",
    "\n",
    "model.fit(X_train_scaled, y_train)\n",
    "pred=model.predict(X_test_scaled)\n",
    "\n",
    "# for classification we use accuracy and F1 score\n",
    "print(model.score(X_train_scaled,y_train))\n",
    "print(model.score(X_test_scaled, y_test))\n",
    "\n",
    "\n",
    "# for regression we use R2 score and MAE(mean absolute error)\n",
    "# all other steps will be same as classification as shown above\n",
    "\n",
    "print(mean_absolute_error(y_test,pred))\n",
    "print(r2_score(y_test,pred))"
   ]
  },
  {
   "cell_type": "code",
   "execution_count": 8,
   "metadata": {},
   "outputs": [
    {
     "data": {
      "text/plain": [
       "Text(0, 0.5, 'Feature Importance Score')"
      ]
     },
     "execution_count": 8,
     "metadata": {},
     "output_type": "execute_result"
    },
    {
     "data": {
      "image/png": "[encoded data removed]",
      "text/plain": [
       "<Figure size 864x288 with 1 Axes>"
      ]
     },
     "metadata": {
      "needs_background": "light"
     },
     "output_type": "display_data"
    }
   ],
   "source": [
    "feat_imp = pd.Series(model.feature_importances_, X.columns).sort_values(ascending=False)\n",
    "feat_imp.plot(kind='bar', title='Feature Importances')\n",
    "plt.ylabel('Feature Importance Score')"
   ]
  },
  {
   "cell_type": "code",
   "execution_count": 9,
   "metadata": {},
   "outputs": [
    {
     "data": {
      "text/plain": [
       "array([0.89406359, 0.93226116, 0.89055015, 0.83312848, 0.88488664,\n",
       "       0.90094371, 0.86282145, 0.76095428, 0.82520686, 0.91867527])"
      ]
     },
     "execution_count": 9,
     "metadata": {},
     "output_type": "execute_result"
    }
   ],
   "source": [
    "cross_val_score(model, X_train_scaled, y_train, cv=10)"
   ]
  },
  {
   "cell_type": "code",
   "execution_count": 10,
   "metadata": {},
   "outputs": [
    {
     "data": {
      "text/plain": [
       "(0.8806058697979686, 0.06771540595295861)"
      ]
     },
     "execution_count": 10,
     "metadata": {},
     "output_type": "execute_result"
    }
   ],
   "source": [
    "(scores.mean(), scores.std())"
   ]
  },
  {
   "cell_type": "code",
   "execution_count": 11,
   "metadata": {},
   "outputs": [
    {
     "data": {
      "text/plain": [
       "GradientBoostingRegressor()"
      ]
     },
     "execution_count": 11,
     "metadata": {},
     "output_type": "execute_result"
    }
   ],
   "source": [
    "# print(dir(GradientBoostingRegressor))\n",
    "GradientBoostingRegressor()"
   ]
  },
  {
   "cell_type": "code",
   "execution_count": 12,
   "metadata": {},
   "outputs": [],
   "source": [
    "def train_GB(est, max_depth, lr):\n",
    "    gb = GradientBoostingRegressor(n_estimators=est, max_depth=max_depth, learning_rate=lr)\n",
    "    gb_model=gb.fit(X_train_scaled,y_train)\n",
    "    y_pred=(gb_model.predict(X_test_scaled))\n",
    "    # precision_recall_fscore_support(y_test, y_pred)\n",
    "    print(f'Mean Absolute Error: {mean_absolute_error(y_test,pred)}')\n",
    "    print(f'Root Mean Squared Error: {r2_score(y_test,pred)}')"
   ]
  },
  {
   "cell_type": "code",
   "execution_count": 15,
   "metadata": {},
   "outputs": [
    {
     "name": "stdout",
     "output_type": "stream",
     "text": [
      "Mean Absolute Error: 43.35080188185705\n",
      "Root Mean Squared Error: 0.8138822681407187\n",
      "Mean Absolute Error: 43.35080188185705\n",
      "Root Mean Squared Error: 0.8138822681407187\n",
      "Mean Absolute Error: 43.35080188185705\n",
      "Root Mean Squared Error: 0.8138822681407187\n",
      "Mean Absolute Error: 43.35080188185705\n",
      "Root Mean Squared Error: 0.8138822681407187\n",
      "Mean Absolute Error: 43.35080188185705\n",
      "Root Mean Squared Error: 0.8138822681407187\n",
      "Mean Absolute Error: 43.35080188185705\n",
      "Root Mean Squared Error: 0.8138822681407187\n",
      "Mean Absolute Error: 43.35080188185705\n",
      "Root Mean Squared Error: 0.8138822681407187\n",
      "Mean Absolute Error: 43.35080188185705\n",
      "Root Mean Squared Error: 0.8138822681407187\n",
      "Mean Absolute Error: 43.35080188185705\n",
      "Root Mean Squared Error: 0.8138822681407187\n",
      "Mean Absolute Error: 43.35080188185705\n",
      "Root Mean Squared Error: 0.8138822681407187\n",
      "Mean Absolute Error: 43.35080188185705\n",
      "Root Mean Squared Error: 0.8138822681407187\n",
      "Mean Absolute Error: 43.35080188185705\n",
      "Root Mean Squared Error: 0.8138822681407187\n",
      "Mean Absolute Error: 43.35080188185705\n",
      "Root Mean Squared Error: 0.8138822681407187\n",
      "Mean Absolute Error: 43.35080188185705\n",
      "Root Mean Squared Error: 0.8138822681407187\n",
      "Mean Absolute Error: 43.35080188185705\n",
      "Root Mean Squared Error: 0.8138822681407187\n",
      "Mean Absolute Error: 43.35080188185705\n",
      "Root Mean Squared Error: 0.8138822681407187\n",
      "Mean Absolute Error: 43.35080188185705\n",
      "Root Mean Squared Error: 0.8138822681407187\n",
      "Mean Absolute Error: 43.35080188185705\n",
      "Root Mean Squared Error: 0.8138822681407187\n",
      "Mean Absolute Error: 43.35080188185705\n",
      "Root Mean Squared Error: 0.8138822681407187\n",
      "Mean Absolute Error: 43.35080188185705\n",
      "Root Mean Squared Error: 0.8138822681407187\n",
      "Mean Absolute Error: 43.35080188185705\n",
      "Root Mean Squared Error: 0.8138822681407187\n",
      "Mean Absolute Error: 43.35080188185705\n",
      "Root Mean Squared Error: 0.8138822681407187\n",
      "Mean Absolute Error: 43.35080188185705\n",
      "Root Mean Squared Error: 0.8138822681407187\n",
      "Mean Absolute Error: 43.35080188185705\n",
      "Root Mean Squared Error: 0.8138822681407187\n",
      "Mean Absolute Error: 43.35080188185705\n",
      "Root Mean Squared Error: 0.8138822681407187\n",
      "Mean Absolute Error: 43.35080188185705\n",
      "Root Mean Squared Error: 0.8138822681407187\n",
      "Mean Absolute Error: 43.35080188185705\n",
      "Root Mean Squared Error: 0.8138822681407187\n"
     ]
    }
   ],
   "source": [
    "for n_est in [50,100,150]:\n",
    "    for max_depth in [3,7,11]:\n",
    "        for lr in [0.01,0.1,1]:\n",
    "            train_GB(n_est, max_depth, lr)"
   ]
  },
  {
   "cell_type": "code",
   "execution_count": null,
   "metadata": {},
   "outputs": [],
   "source": []
  },
  {
   "cell_type": "code",
   "execution_count": null,
   "metadata": {},
   "outputs": [],
   "source": [
    "# #  Scale the data\n",
    "# scaler=StandardScaler().fit(X)\n",
    "# X_scaled=scaler.transform(X)"
   ]
  },
  {
   "cell_type": "code",
   "execution_count": null,
   "metadata": {},
   "outputs": [],
   "source": []
  },
  {
   "cell_type": "code",
   "execution_count": null,
   "metadata": {},
   "outputs": [],
   "source": [
    "# def modelfit(alg, dtrain, predictors, performCV=True, printFeatureImportance=True, cv_folds=10):\n",
    "#     #Fit the algorithm on the data\n",
    "#     alg.fit(dtrain[predictors], dtrain['Weekly_Units_Sold'])\n",
    "        \n",
    "#     #Predict training set:\n",
    "#     dtrain_predictions = alg.predict(dtrain[predictors])\n",
    "#     dtrain_predprob = alg.predict_proba(dtrain[predictors])[:,1]\n",
    "\n",
    "#     #Perform cross-validation:\n",
    "#     if performCV:\n",
    "#         cv_score = cross_val_score(alg, dtrain[predictors], dtrain['Weekly_Units_Sold'], cv=cv_folds, scoring='roc_auc')\n",
    "\n",
    "#     # Print Model Report:\n",
    "#     print(\"Model Report\")\n",
    "#     print(\"Accuracy: \" (accuracy_score(dtrain['Weekly_Units_Sold'].values, dtrain_predictions)))\n",
    "#     print(\"AUC Score(Train): \" (roc_auc_score(dtrain[\"Weekly_Units_Sold\"], dtrain_predprob)))\n",
    "#     print(\"CV Score : Mean - | STD - | Min - | Max - | \" (np.mean(cv_score),np.std(cv_score),np.min(cv_score),np.max(cv_score)))\n",
    "\n",
    "#     #Print Feature Importance:\n",
    "#     if printFeatureImportance:\n",
    "#         feat_imp = pd.Series(alg.feature_importances_, predictors).sort_values(ascending=False)\n",
    "#         feat_imp.plot(kind='bar', title='Feature Importances')\n",
    "#         plt.ylabel('Feature Importance Score')      \n",
    "\n",
    "    "
   ]
  },
  {
   "cell_type": "code",
   "execution_count": null,
   "metadata": {},
   "outputs": [],
   "source": [
    "# predictors = X.columns\n",
    "# gbm0=GradientBoostingClassifier(random_state=1)\n",
    "# modelfit(gbm0, X, predictors)"
   ]
  },
  {
   "cell_type": "code",
   "execution_count": null,
   "metadata": {},
   "outputs": [],
   "source": []
  }
 ],
 "metadata": {
  "interpreter": {
   "hash": "b4b880821d65060c8e4298c7cb03d26338c65489e1f2661ffae60500bf4444f8"
  },
  "kernelspec": {
   "display_name": "Python 3.6.13 64-bit ('PythonData': conda)",
   "language": "python",
   "name": "python3"
  },
  "language_info": {
   "codemirror_mode": {
    "name": "ipython",
    "version": 3
   },
   "file_extension": ".py",
   "mimetype": "text/x-python",
   "name": "python",
   "nbconvert_exporter": "python",
   "pygments_lexer": "ipython3",
   "version": "3.6.13"
  },
  "orig_nbformat": 4
 },
 "nbformat": 4,
 "nbformat_minor": 2
}
